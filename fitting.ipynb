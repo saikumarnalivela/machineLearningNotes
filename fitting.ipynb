{
 "cells": [
  {
   "cell_type": "markdown",
   "metadata": {},
   "source": [
    "# Overfitting Demo"
   ]
  },
  {
   "cell_type": "markdown",
   "metadata": {},
   "source": [
    "# Generate Random Data\n",
    "We are going to randomly create some points and add in a little bit of noise."
   ]
  },
  {
   "cell_type": "code",
   "execution_count": 179,
   "metadata": {},
   "outputs": [
    {
     "name": "stdout",
     "output_type": "stream",
     "text": [
      "[[-3.71975605]\n",
      " [-0.97904491]\n",
      " [-1.32470131]\n",
      " [-4.39785048]\n",
      " [-1.92617054]\n",
      " [-2.77042042]\n",
      " [ 4.88894778]\n",
      " [ 4.21608027]\n",
      " [-3.18392598]\n",
      " [-3.02278425]\n",
      " [-1.72938132]\n",
      " [-0.96520681]\n",
      " [-2.4010594 ]\n",
      " [-4.01492807]\n",
      " [ 2.68311584]\n",
      " [-2.03721497]\n",
      " [-2.54518471]\n",
      " [ 0.92490418]\n",
      " [-3.95851839]\n",
      " [ 0.90853027]\n",
      " [ 0.49351274]\n",
      " [ 0.85562774]\n",
      " [-3.84266096]\n",
      " [ 1.18118314]\n",
      " [ 4.79895172]\n",
      " [ 3.3594661 ]\n",
      " [ 3.06960176]\n",
      " [-0.61584301]\n",
      " [ 4.93606122]\n",
      " [ 1.02045373]]\n",
      "[[2.6506811 ]\n",
      " [1.23370687]\n",
      " [1.05939767]\n",
      " [2.96827654]\n",
      " [1.23235758]\n",
      " [1.73802819]\n",
      " [1.17575243]\n",
      " [1.25119775]\n",
      " [2.06620704]\n",
      " [2.06185134]\n",
      " [1.12601792]\n",
      " [1.22171741]\n",
      " [1.39152065]\n",
      " [2.95547689]\n",
      " [2.56333394]\n",
      " [1.19650782]\n",
      " [1.4485588 ]\n",
      " [2.83833786]\n",
      " [2.84098631]\n",
      " [2.86741672]\n",
      " [2.59290824]\n",
      " [2.88289533]\n",
      " [2.78399421]\n",
      " [3.06709642]\n",
      " [1.09956568]\n",
      " [1.92007426]\n",
      " [2.23277746]\n",
      " [1.61322608]\n",
      " [1.15154379]\n",
      " [2.97636752]]\n"
     ]
    }
   ],
   "source": [
    "import numpy as np\n",
    "n = 30\n",
    "min_val = -5.0\n",
    "max_val = 5.0\n",
    "range_val = max_val - min_val\n",
    "\n",
    "#This will generate an array of values from min to max\n",
    "x_data = min_val + range_val * np.random.rand(n, 1) \n",
    "\n",
    "# Use a quadratic formula to compute each of the y values plus a bit of noise\n",
    "y_data = -3 + 2*x_data +x_data**2 + 4*np.random.rand(n, 1)\n",
    "\n",
    "# The following will do a log function\n",
    "#y_data = 3 + np.log(x_data - min_val) + 0.2*np.random.rand(n, 1) \n",
    "\n",
    "# The following will do a sin function\n",
    "#y_data = 2 + np.sin(x_data) + 0.2*np.random.rand(n, 1) \n",
    "\n",
    "# The following will do an exponential function\n",
    "#y_data = 2 + np.exp(x_data) + 0.2*np.random.rand(n, 1) \n",
    "\n",
    "# The following will do an absolute value function\n",
    "#y_data = -2 + np.abs(x_data) + 0.3*np.random.rand(n, 1)\n",
    "\n",
    "# The following will do a line with a modest bit of noise\n",
    "#y_data = -2 + 3* x_data + 1.5*np.random.rand(n, 1)\n",
    "\n",
    "\n",
    "    \n",
    "print(x_data)\n",
    "print(y_data)"
   ]
  },
  {
   "cell_type": "markdown",
   "metadata": {},
   "source": [
    "## Quick Look at the Data\n",
    "We will use pyplot from matplotlib"
   ]
  },
  {
   "cell_type": "code",
   "execution_count": 180,
   "metadata": {},
   "outputs": [
    {
     "data": {
      "image/png": "[encoded data removed]",
      "text/plain": [
       "<Figure size 432x288 with 1 Axes>"
      ]
     },
     "metadata": {},
     "output_type": "display_data"
    }
   ],
   "source": [
    "import matplotlib.pyplot as plt\n",
    "plt.scatter(x_data, y_data)\n",
    "plt.show()"
   ]
  },
  {
   "cell_type": "markdown",
   "metadata": {},
   "source": [
    "## Try fitting a Line (Linear Regression)"
   ]
  },
  {
   "cell_type": "code",
   "execution_count": 181,
   "metadata": {},
   "outputs": [
    {
     "name": "stdout",
     "output_type": "stream",
     "text": [
      "1.9871253719315793 -0.058824124697006375\n"
     ]
    }
   ],
   "source": [
    "from sklearn.linear_model import LinearRegression\n",
    "linear_model = LinearRegression()\n",
    "linear_model.fit(x_data, y_data)\n",
    "\n",
    "intercept = linear_model.intercept_[0]\n",
    "slope = linear_model.coef_[0][0]\n",
    "print(intercept, slope)"
   ]
  },
  {
   "cell_type": "markdown",
   "metadata": {},
   "source": [
    "## Plot the line and the data"
   ]
  },
  {
   "cell_type": "code",
   "execution_count": 182,
   "metadata": {},
   "outputs": [
    {
     "name": "stdout",
     "output_type": "stream",
     "text": [
      "0.1\n"
     ]
    },
    {
     "data": {
      "image/png": "[encoded data removed]",
      "text/plain": [
       "<Figure size 432x288 with 1 Axes>"
      ]
     },
     "metadata": {},
     "output_type": "display_data"
    }
   ],
   "source": [
    "# Will use a list comprehension to create the curve points\n",
    "number_points = 100\n",
    "delta = (max_val - min_val)/number_points\n",
    "print(delta)\n",
    "x_curve = [ i*delta + min_val for i in range(number_points) ]\n",
    "y_curve = [ intercept + slope*x for x in x_curve]\n",
    "\n",
    "plt.scatter(x_data, y_data)\n",
    "plt.plot(x_curve, y_curve)\n",
    "plt.show()\n"
   ]
  },
  {
   "cell_type": "markdown",
   "metadata": {},
   "source": [
    "## Try fitting with a quadratic"
   ]
  },
  {
   "cell_type": "code",
   "execution_count": 183,
   "metadata": {},
   "outputs": [
    {
     "name": "stdout",
     "output_type": "stream",
     "text": [
      "2.037699040130891 [-0.05553492 -0.00579971]\n"
     ]
    }
   ],
   "source": [
    "from sklearn.preprocessing import PolynomialFeatures\n",
    "create_poly_terms = PolynomialFeatures(degree=2, include_bias=False)\n",
    "x_poly_terms = create_poly_terms.fit_transform(x_data)\n",
    "\n",
    "quad_model = LinearRegression()\n",
    "quad_model.fit(x_poly_terms, y_data)\n",
    "\n",
    "intercept = quad_model.intercept_[0]\n",
    "coefs = quad_model.coef_[0]\n",
    "print(intercept, coefs)"
   ]
  },
  {
   "cell_type": "code",
   "execution_count": 184,
   "metadata": {
    "scrolled": true
   },
   "outputs": [
    {
     "name": "stdout",
     "output_type": "stream",
     "text": [
      "0.1\n"
     ]
    },
    {
     "data": {
      "image/png": "[encoded data removed]",
      "text/plain": [
       "<Figure size 432x288 with 1 Axes>"
      ]
     },
     "metadata": {},
     "output_type": "display_data"
    }
   ],
   "source": [
    "number_points = 100\n",
    "delta = (max_val - min_val)/number_points\n",
    "print(delta)\n",
    "x_curve = [ i*delta + min_val for i in range(number_points) ]\n",
    "y_curve = [ intercept + coefs[0]*x + coefs[1]*x**2 for x in x_curve]\n",
    "\n",
    "plt.scatter(x_data, y_data)\n",
    "plt.plot(x_curve, y_curve)\n",
    "plt.show()"
   ]
  },
  {
   "cell_type": "markdown",
   "metadata": {},
   "source": [
    "## Try Fitting with a degree K polynomial"
   ]
  },
  {
   "cell_type": "code",
   "execution_count": 191,
   "metadata": {},
   "outputs": [
    {
     "name": "stdout",
     "output_type": "stream",
     "text": [
      "2.2266196100790925 [ 1.55339365e-04 -4.56808258e-04  4.35107242e-04 -5.78438563e-04\n",
      "  1.16293549e-03 -1.50357865e-03  2.74879318e-03 -2.77446607e-03\n",
      "  4.83625157e-03 -2.20026422e-03  4.06291575e-03  3.08887350e-03\n",
      " -3.14896323e-03 -1.10196811e-03  7.91711101e-04  1.88663430e-04\n",
      " -1.02952055e-04 -1.78098198e-05  7.75399797e-06  9.48961878e-07\n",
      " -3.43063393e-07 -2.67694002e-08  8.32012750e-09  3.11115314e-10\n",
      " -8.57257177e-11]\n"
     ]
    }
   ],
   "source": [
    "K = 25\n",
    "\n",
    "create_poly_terms = PolynomialFeatures(degree=K, include_bias=False)\n",
    "x_poly_terms = create_poly_terms.fit_transform(x_data)\n",
    "\n",
    "poly_model = LinearRegression()\n",
    "poly_model.fit(x_poly_terms, y_data)\n",
    "\n",
    "intercept = poly_model.intercept_[0]\n",
    "coefs = poly_model.coef_[0]\n",
    "print(intercept, coefs)"
   ]
  },
  {
   "cell_type": "code",
   "execution_count": 192,
   "metadata": {
    "scrolled": true
   },
   "outputs": [
    {
     "name": "stdout",
     "output_type": "stream",
     "text": [
      "0.01\n"
     ]
    },
    {
     "data": {
      "image/png": "[encoded data removed]",
      "text/plain": [
       "<Figure size 432x288 with 1 Axes>"
      ]
     },
     "metadata": {},
     "output_type": "display_data"
    }
   ],
   "source": [
    "def poly_eval(intercept, coefs, x, y_min, y_max):\n",
    "    value = intercept\n",
    "    x_power = x\n",
    "    for coef in coefs:\n",
    "        term = coef * x_power\n",
    "        x_power *= x\n",
    "        value += term\n",
    "    # Clip values \n",
    "    if value < y_min: return y_min\n",
    "    if value > y_max: return y_max\n",
    "    return value\n",
    "\n",
    "plt.scatter(x_data, y_data)\n",
    "# Get the bounds from the scatter data\n",
    "[y_min, y_max] = plt.gca().get_ylim()\n",
    "\n",
    "\n",
    "number_points = 1000\n",
    "delta = (max_val - min_val)/number_points\n",
    "print(delta)\n",
    "x_curve = [ i*delta + min_val for i in range(number_points) ]\n",
    "y_curve = [ poly_eval(intercept, coefs, x, y_min, y_max) for x in x_curve]\n",
    "\n",
    "\n",
    "plt.plot(x_curve, y_curve)\n",
    "\n",
    "\n",
    "plt.show()"
   ]
  },
  {
   "cell_type": "markdown",
   "metadata": {},
   "source": [
    "## _Notes_\n",
    "If the max degree of the polynomial is K, then the number of paramters is K+1.  As the number of random data points gets closer and closer to K, the polynomial does a better job of fitting the data by virtue of going through all the points.  Unfortunately, this also causes the function to have wild swings.  This is clearly not a good fit for the data."
   ]
  }
 ],
 "metadata": {
  "kernelspec": {
   "display_name": "Python 3 (Spyder)",
   "language": "python3",
   "name": "python3"
  },
  "language_info": {
   "codemirror_mode": {
    "name": "ipython",
    "version": 3
   },
   "file_extension": ".py",
   "mimetype": "text/x-python",
   "name": "python",
   "nbconvert_exporter": "python",
   "pygments_lexer": "ipython3",
   "version": "3.7.0"
  }
 },
 "nbformat": 4,
 "nbformat_minor": 2
}
