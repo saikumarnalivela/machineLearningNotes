{
 "cells": [
  {
   "cell_type": "markdown",
   "metadata": {},
   "source": [
    "# Data Cleaning and Regularization\n",
    "We will not talk too much about data cleaning, but will explore some basic techniques.\n",
    "Mostly we assume that the data has already been cleaned for use"
   ]
  },
  {
   "cell_type": "code",
   "execution_count": 1,
   "metadata": {},
   "outputs": [
    {
     "name": "stdout",
     "output_type": "stream",
     "text": [
      "    magnitude  count  duration    year  all_here\n",
      "0         5.0   10.0     101.0  1900.0         1\n",
      "1         NaN   15.0     103.0  2001.0         2\n",
      "2         6.0   20.0     101.0  2020.0         3\n",
      "3         5.0    NaN       NaN  2009.0         4\n",
      "4         6.0    NaN     103.0  1995.0         5\n",
      "5         7.0   25.0     102.0     NaN         6\n",
      "6         8.0   20.0       NaN  1928.0         7\n",
      "7         1.0   25.0       NaN  1930.0         8\n",
      "8         3.0   30.0     200.0  1776.0         9\n",
      "9         5.0    NaN     150.0     NaN         0\n",
      "10        5.0   20.0     101.0    15.0        11\n",
      "11        5.0   20.0       NaN    16.0        12\n",
      "12        5.0   20.0     199.0  2001.0        13\n"
     ]
    }
   ],
   "source": [
    "# Read in some data from a CSV file the has missing values\n",
    "import pandas as pd\n",
    "\n",
    "my_data = pd.read_csv(\"missing_data.csv\")\n",
    "print(my_data)"
   ]
  },
  {
   "cell_type": "code",
   "execution_count": null,
   "metadata": {},
   "outputs": [],
   "source": [
    "## What to do if there are instances with missing data\n",
    "### Get rid of the row with the missing data\n",
    "Use the dropna() function\n",
    "### Set the missing value to something\n",
    "Use the fillna() function\n",
    "### Get rid of the attibute\n",
    "Use the drop() function"
   ]
  },
  {
   "cell_type": "code",
   "execution_count": 10,
   "metadata": {},
   "outputs": [
    {
     "name": "stdout",
     "output_type": "stream",
     "text": [
      "    magnitude  count  duration    year  all_here\n",
      "0         5.0   10.0     101.0  1900.0         1\n",
      "2         6.0   20.0     101.0  2020.0         3\n",
      "8         3.0   30.0     200.0  1776.0         9\n",
      "10        5.0   20.0     101.0    15.0        11\n",
      "12        5.0   20.0     199.0  2001.0        13\n"
     ]
    }
   ],
   "source": [
    "# drop a row if any value in the row is missing\n",
    "data_copy_1 = my_data.copy()\n",
    "data_copy_1.dropna(axis='index', how='any', inplace=True)\n",
    "print(data_copy_1)"
   ]
  },
  {
   "cell_type": "code",
   "execution_count": 11,
   "metadata": {},
   "outputs": [
    {
     "name": "stdout",
     "output_type": "stream",
     "text": [
      "    magnitude  count  duration    year  all_here\n",
      "0         5.0   10.0     101.0  1900.0         1\n",
      "1         NaN   15.0     103.0  2001.0         2\n",
      "2         6.0   20.0     101.0  2020.0         3\n",
      "4         6.0    NaN     103.0  1995.0         5\n",
      "5         7.0   25.0     102.0     NaN         6\n",
      "6         8.0   20.0       NaN  1928.0         7\n",
      "7         1.0   25.0       NaN  1930.0         8\n",
      "8         3.0   30.0     200.0  1776.0         9\n",
      "9         5.0    NaN     150.0     NaN         0\n",
      "10        5.0   20.0     101.0    15.0        11\n",
      "11        5.0   20.0       NaN    16.0        12\n",
      "12        5.0   20.0     199.0  2001.0        13\n"
     ]
    }
   ],
   "source": [
    "# drop a row if all values in the subset are missing\n",
    "data_copy_2 = my_data.copy()\n",
    "data_copy_2.dropna(axis='index', how='all', subset=[\"count\",\"duration\"], inplace=True)\n",
    "print(data_copy_2)"
   ]
  },
  {
   "cell_type": "code",
   "execution_count": 13,
   "metadata": {},
   "outputs": [
    {
     "name": "stdout",
     "output_type": "stream",
     "text": [
      "    all_here\n",
      "0          1\n",
      "1          2\n",
      "2          3\n",
      "3          4\n",
      "4          5\n",
      "5          6\n",
      "6          7\n",
      "7          8\n",
      "8          9\n",
      "9          0\n",
      "10        11\n",
      "11        12\n",
      "12        13\n"
     ]
    }
   ],
   "source": [
    "# drop a column if any value in the column is missing\n",
    "data_copy_3 = my_data.copy()\n",
    "data_copy_3.dropna(axis='columns', how='any', inplace=True)\n",
    "print(data_copy_3)"
   ]
  },
  {
   "cell_type": "code",
   "execution_count": 17,
   "metadata": {},
   "outputs": [
    {
     "name": "stdout",
     "output_type": "stream",
     "text": [
      "    magnitude  count    year  all_here\n",
      "0         5.0   10.0  1900.0         1\n",
      "1         NaN   15.0  2001.0         2\n",
      "2         6.0   20.0  2020.0         3\n",
      "3         5.0    NaN  2009.0         4\n",
      "4         6.0    NaN  1995.0         5\n",
      "5         7.0   25.0     NaN         6\n",
      "6         8.0   20.0  1928.0         7\n",
      "7         1.0   25.0  1930.0         8\n",
      "8         3.0   30.0  1776.0         9\n",
      "9         5.0    NaN     NaN         0\n",
      "10        5.0   20.0    15.0        11\n",
      "11        5.0   20.0    16.0        12\n",
      "12        5.0   20.0  2001.0        13\n"
     ]
    }
   ],
   "source": [
    "# drop a specific column\n",
    "data_copy_4 = my_data.copy()\n",
    "data_copy_4.drop(lables=\"duration\", axis='columns', inplace=True)\n",
    "print(data_copy_4)"
   ]
  },
  {
   "cell_type": "code",
   "execution_count": 6,
   "metadata": {},
   "outputs": [
    {
     "name": "stdout",
     "output_type": "stream",
     "text": [
      "    magnitude  count  duration         year  all_here\n",
      "0         5.0   10.0     101.0  1900.000000         1\n",
      "1         NaN   15.0     103.0  2001.000000         2\n",
      "2         6.0   20.0     101.0  2020.000000         3\n",
      "3         5.0   20.0       NaN  2009.000000         4\n",
      "4         6.0   20.0     103.0  1995.000000         5\n",
      "5         7.0   25.0     102.0  1599.181818         6\n",
      "6         8.0   20.0       NaN  1928.000000         7\n",
      "7         1.0   25.0       NaN  1930.000000         8\n",
      "8         3.0   30.0     200.0  1776.000000         9\n",
      "9         5.0   20.0     150.0  1599.181818         0\n",
      "10        5.0   20.0     101.0    15.000000        11\n",
      "11        5.0   20.0       NaN    16.000000        12\n",
      "12        5.0   20.0     199.0  2001.000000        13\n"
     ]
    }
   ],
   "source": [
    "# replacing missing values with the median of the column\n",
    "data_copy_5 = my_data.copy()\n",
    "count_median = data_copy_5[\"count\"].median()\n",
    "year_mean = data_copy_5[\"year\"].mean()\n",
    "\n",
    "# fillna does not have subset as an option, so use a particular column\n",
    "data_copy_5[\"count\"].fillna( value=count_median, inplace=True)\n",
    "data_copy_5[\"year\"].fillna( value=year_mean, inplace=True)\n",
    "\n",
    "print(data_copy_5)\n"
   ]
  },
  {
   "cell_type": "code",
   "execution_count": 4,
   "metadata": {
    "scrolled": true
   },
   "outputs": [
    {
     "name": "stdout",
     "output_type": "stream",
     "text": [
      "0     False\n",
      "1     False\n",
      "2      True\n",
      "3     False\n",
      "4     False\n",
      "5     False\n",
      "6      True\n",
      "7     False\n",
      "8     False\n",
      "9     False\n",
      "10     True\n",
      "11     True\n",
      "12     True\n",
      "Name: count, dtype: bool\n",
      "    magnitude  count  duration    year  all_here\n",
      "2         6.0   20.0     101.0  2020.0         3\n",
      "6         8.0   20.0       NaN  1928.0         7\n",
      "10        5.0   20.0     101.0    15.0        11\n",
      "11        5.0   20.0       NaN    16.0        12\n",
      "12        5.0   20.0     199.0  2001.0        13\n"
     ]
    }
   ],
   "source": [
    "## Filtering data rows based on a condition\n",
    "## we use a slice that selects rows based on a boolean vector\n",
    "data_copy_6 = my_data.copy()\n",
    "\n",
    "count_is_20 = data_copy_6[\"count\"] == 20\n",
    "print(count_is_20)\n",
    "\n",
    "result = data_copy_6[count_is_20]\n",
    "\n",
    "print(result)"
   ]
  },
  {
   "cell_type": "code",
   "execution_count": null,
   "metadata": {},
   "outputs": [],
   "source": [
    "## Using an Imputer to monge the data"
   ]
  }
 ],
 "metadata": {
  "kernelspec": {
   "display_name": "Python 3 (Spyder)",
   "language": "python3",
   "name": "python3"
  },
  "language_info": {
   "codemirror_mode": {
    "name": "ipython",
    "version": 3
   },
   "file_extension": ".py",
   "mimetype": "text/x-python",
   "name": "python",
   "nbconvert_exporter": "python",
   "pygments_lexer": "ipython3",
   "version": "3.7.0"
  }
 },
 "nbformat": 4,
 "nbformat_minor": 2
}
