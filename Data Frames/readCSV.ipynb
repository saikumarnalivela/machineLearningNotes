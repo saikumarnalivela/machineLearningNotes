{
 "cells": [
  {
   "cell_type": "markdown",
   "metadata": {},
   "source": [
    "# Reading data from a CSV file"
   ]
  },
  {
   "cell_type": "markdown",
   "metadata": {},
   "source": [
    "## A Clean CSV\n",
    "Suppose that the CSV file has the following data\n",
    "\n",
    "|width|height|color|type|\n",
    "|---|---|---|---|\n",
    "|5  |20|green|square|\n",
    "|6  |17|orange|triangle|\n",
    "|2.5|17|orange|triangle|\n",
    "|7  |21|green |square|\n",
    "|5  |15|yellow|circle|\n",
    "\n",
    "We can use the read_csv function from pandas to read in a CSV file. It will return a pandas Dataframe.  Read more about pandas Dataframes here:  http://pandas.pydata.org//pandas-docs//stable//generated/pandas.DataFrame.html\n",
    "\n",
    "While pandas will let us do some basic scatter plot, matplotlib gives us more contraol. Read about matplotlib scatter plots here:https://matplotlib.org/api/_as_gen/matplotlib.pyplot.scatter.html#matplotlib.pyplot.scatter\n",
    "\n",
    "Read about the markers you can use here: https://matplotlib.org/api/markers_api.html#module-matplotlib.markers\n",
    "\n",
    "Using numpy, we can create masking arrays.  Any data value that is masked using the s parameter will not show up.  Read about masking here:\n",
    "https://docs.scipy.org/doc/numpy/reference/generated/numpy.ma.masked_where.html#numpy.ma.masked_where\n",
    "\n",
    "\n"
   ]
  },
  {
   "cell_type": "code",
   "execution_count": 29,
   "metadata": {
    "scrolled": true
   },
   "outputs": [
    {
     "name": "stdout",
     "output_type": "stream",
     "text": [
      "   width  height   color      type\n",
      "0    5.0      20   green    square\n",
      "1    6.0      17  orange  triangle\n",
      "2    2.5      17  orange  triangle\n",
      "3    7.0      21   green    square\n",
      "4    5.0      15  yellow    circle\n",
      "Index(['width', 'height', 'color', 'type'], dtype='object')\n",
      "   width  height   color      type\n",
      "0    5.0      20   green    square\n",
      "1    6.0      17  orange  triangle\n",
      "2    2.5      17  orange  triangle\n",
      "3    7.0      21   green    square\n",
      "4    5.0      15  yellow    circle\n",
      "green     2\n",
      "orange    2\n",
      "yellow    1\n",
      "Name: color, dtype: int64\n",
      "triangle    2\n",
      "square      2\n",
      "circle      1\n",
      "Name: type, dtype: int64\n",
      "17    2\n",
      "15    1\n",
      "21    1\n",
      "20    1\n",
      "Name: height, dtype: int64\n"
     ]
    },
    {
     "data": {
      "image/png": "[encoded data removed]",
      "text/plain": [
       "<Figure size 432x288 with 2 Axes>"
      ]
     },
     "metadata": {},
     "output_type": "display_data"
    },
    {
     "name": "stdout",
     "output_type": "stream",
     "text": [
      "           width    height\n",
      "width   1.000000  0.457453\n",
      "height  0.457453  1.000000\n"
     ]
    },
    {
     "data": {
      "image/png": "[encoded data removed]",
      "text/plain": [
       "<Figure size 432x288 with 4 Axes>"
      ]
     },
     "metadata": {},
     "output_type": "display_data"
    },
    {
     "data": {
      "image/png": "[encoded data removed]",
      "text/plain": [
       "<Figure size 432x288 with 1 Axes>"
      ]
     },
     "metadata": {},
     "output_type": "display_data"
    }
   ],
   "source": [
    "import pandas as pd\n",
    "\n",
    "data = pd.read_csv(\"clean.csv\")\n",
    "print(data)\n",
    "print(data.keys())\n",
    "data.head()\n",
    "# Same data with an empty line\n",
    "\n",
    "data = pd.read_csv(\"emptyrow.csv\")\n",
    "print(data)\n",
    "\n",
    "\n",
    "print(data[\"color\"].value_counts())\n",
    "print(data[\"type\"].value_counts())\n",
    "print(data[\"height\"].value_counts())\n",
    "\n",
    "import matplotlib.pyplot as plt\n",
    "# Start a new plot\n",
    "data.hist(bins=4)\n",
    "plt.show()\n",
    "\n",
    "#data.head()\n",
    "\n",
    "correlations = data.corr()\n",
    "print(correlations)\n",
    "correlations[\"height\"].sort_values(ascending=False)\n",
    "\n",
    "from pandas.plotting import scatter_matrix\n",
    "attributes = [\"color\", \"width\", \"height\"]\n",
    "scatter_matrix(data[attributes])\n",
    "plt.show()\n",
    "\n",
    "#Start a new scatter plot\n",
    "# Create a mask so that only certain points are plotted.  Each result\n",
    "# is an array like thing.  The first parameter is the test and the second\n",
    "# is what to apply it to\n",
    "import numpy as np\n",
    "choice1 = np.ma.masked_where(data[\"color\"] != \"green\", data[\"height\"])\n",
    "choice2 = np.ma.masked_where(data[\"color\"] != \"orange\", data[\"height\"])\n",
    "choice3 = np.ma.masked_where(data[\"color\"] != \"yellow\", data[\"height\"])\n",
    "\n",
    "# Use a different marker on each of the three types\n",
    "plt.scatter(x=choice1,y=data[\"width\"], marker=\"^\", c=\"green\")\n",
    "plt.scatter(x=choice2,y=data[\"width\"], s=choice2, marker=\"o\", c=\"orange\")\n",
    "plt.scatter(x=choice3,y=data[\"width\"], s=choice3, marker=\"s\", c=\"black\")\n",
    "plt.show()\n",
    "\n",
    "\n"
   ]
  },
  {
   "cell_type": "markdown",
   "metadata": {},
   "source": [
    "## A messy CSV\n",
    "\n",
    "If we are missing values or have some values that are not consistent with the other values in the field, interesting things can happen.\n",
    "\n",
    "messy1.csv\n",
    "```text\n",
    "“index”, “gender”, age at death, “breed”\n",
    "1, Male , 10, Basset Hound\n",
    "2, Male, 4, Golden Retriever\n",
    "3, Female, 2, Basset Hound\n",
    "4, Male, 13; Collie\n",
    "5, female, , Dachshound\n",
    "6, F, five, Poodle\n",
    "7, Female, 5.23, 10\n",
    "```\n",
    "\n",
    "A slightly cleaned up version is in messy2.csv"
   ]
  },
  {
   "cell_type": "code",
   "execution_count": 28,
   "metadata": {},
   "outputs": [
    {
     "name": "stdout",
     "output_type": "stream",
     "text": [
      "   index  gender age at death             breed\n",
      "0      1    Male           10      Basset Hound\n",
      "1      2    Male            4  Golden Retriever\n",
      "2      3  Female            2      Basset Hound\n",
      "3      4   Male            13            Collie\n",
      "4      5  female          NaN        Dachshound\n",
      "5      6       F         five            Poodle\n",
      "6      7  Female         5.23                10\n",
      "Index(['index', 'gender', 'age at death', 'breed'], dtype='object')\n",
      "<class 'pandas.core.frame.DataFrame'>\n",
      "RangeIndex: 7 entries, 0 to 6\n",
      "Data columns (total 4 columns):\n",
      "index           7 non-null int64\n",
      "gender          7 non-null object\n",
      "age at death    6 non-null object\n",
      "breed           7 non-null object\n",
      "dtypes: int64(1), object(3)\n",
      "memory usage: 304.0+ bytes\n",
      "Female    2\n",
      "Male      2\n",
      "F         1\n",
      "female    1\n",
      "Male      1\n",
      "Name: gender, dtype: int64\n"
     ]
    },
    {
     "data": {
      "image/png": "[encoded data removed]",
      "text/plain": [
       "<Figure size 432x288 with 1 Axes>"
      ]
     },
     "metadata": {},
     "output_type": "display_data"
    }
   ],
   "source": [
    "import pandas as pd\n",
    "\n",
    "data = pd.read_csv(\"messy2.csv\")\n",
    "print(data)\n",
    "print(data.keys())\n",
    "\n",
    "data.head()\n",
    "data.info()\n",
    "print(data['gender'].value_counts())\n",
    "\n",
    "import matplotlib.pyplot as plt\n",
    "data.hist(bins=4)\n",
    "plt.show()"
   ]
  },
  {
   "cell_type": "markdown",
   "metadata": {},
   "source": [
    "If you have data with issues, you can clean the data.  You should always keep your original source data and write a program that will produce a cleaned version.  For some particular cases, (E.g. missing values) we can use existing code that we will incorporate into our pipeline."
   ]
  }
 ],
 "metadata": {
  "kernelspec": {
   "display_name": "Python 3 (Spyder)",
   "language": "python3",
   "name": "python3"
  },
  "language_info": {
   "codemirror_mode": {
    "name": "ipython",
    "version": 3
   },
   "file_extension": ".py",
   "mimetype": "text/x-python",
   "name": "python",
   "nbconvert_exporter": "python",
   "pygments_lexer": "ipython3",
   "version": "3.7.0"
  }
 },
 "nbformat": 4,
 "nbformat_minor": 2
}
