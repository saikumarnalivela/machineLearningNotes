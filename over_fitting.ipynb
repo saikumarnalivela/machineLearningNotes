{
 "cells": [
  {
   "cell_type": "markdown",
   "metadata": {},
   "source": [
    "# Overfitting Demo"
   ]
  },
  {
   "cell_type": "markdown",
   "metadata": {},
   "source": [
    "# Generate Random Data\n",
    "We are going to randomly create some points and add in a little bit of noise."
   ]
  },
  {
   "cell_type": "code",
   "execution_count": 4,
   "metadata": {},
   "outputs": [
    {
     "name": "stdout",
     "output_type": "stream",
     "text": [
      "[[-3.63567348]\n",
      " [-0.60479676]\n",
      " [ 1.32468971]\n",
      " [ 1.19716185]\n",
      " [ 1.44917985]\n",
      " [-2.25175957]\n",
      " [ 1.12418233]\n",
      " [ 4.15631162]\n",
      " [ 0.30076456]\n",
      " [ 3.67043685]\n",
      " [-4.23540812]\n",
      " [-3.39095345]\n",
      " [ 0.36735304]\n",
      " [-1.33455762]\n",
      " [-0.70248031]\n",
      " [-1.9185944 ]\n",
      " [ 3.70510868]\n",
      " [ 2.54210059]\n",
      " [-4.18077323]\n",
      " [-4.89220474]\n",
      " [-3.8372757 ]\n",
      " [ 4.78121914]\n",
      " [ 4.23174222]\n",
      " [ 3.7286207 ]\n",
      " [ 2.14478734]\n",
      " [ 3.24278544]\n",
      " [ 3.57468951]\n",
      " [-0.16689699]\n",
      " [ 2.13836201]\n",
      " [ 0.04468849]]\n",
      "[[ 5.75643671]\n",
      " [-1.77364442]\n",
      " [ 3.19346585]\n",
      " [ 0.88425436]\n",
      " [ 2.84291072]\n",
      " [-0.57993298]\n",
      " [ 1.90820425]\n",
      " [23.32114328]\n",
      " [-0.3103225 ]\n",
      " [19.06039751]\n",
      " [ 7.31714276]\n",
      " [ 4.55874473]\n",
      " [ 0.75289956]\n",
      " [-1.25252818]\n",
      " [-0.82007066]\n",
      " [-2.2544188 ]\n",
      " [18.9464816 ]\n",
      " [ 9.09865358]\n",
      " [ 9.33940898]\n",
      " [14.81003251]\n",
      " [ 4.89216766]\n",
      " [29.60894358]\n",
      " [24.60408744]\n",
      " [20.71462469]\n",
      " [ 6.44618373]\n",
      " [16.4222983 ]\n",
      " [17.90407456]\n",
      " [ 0.32486   ]\n",
      " [ 8.46622648]\n",
      " [-2.7330146 ]]\n"
     ]
    }
   ],
   "source": [
    "import numpy as np\n",
    "n = 30\n",
    "min_val = -5.0\n",
    "max_val = 5.0\n",
    "range_val = max_val - min_val\n",
    "\n",
    "#This will generate an array of values from min to max\n",
    "x_data = min_val + range_val * np.random.rand(n, 1) \n",
    "\n",
    "# Use a quadratic formula to compute each of the y values plus a bit of noise\n",
    "y_data = -3 + 2*x_data +x_data**2 + 4*np.random.rand(n, 1)\n",
    "\n",
    "# The following will do a log function\n",
    "#y_data = 3 + np.log(x_data - min_val) + 0.2*np.random.rand(n, 1) \n",
    "\n",
    "# The following will do a sin function\n",
    "#y_data = 2 + np.sin(x_data) + 0.2*np.random.rand(n, 1) \n",
    "\n",
    "# The following will do an exponential function\n",
    "#y_data = 2 + np.exp(x_data) + 0.2*np.random.rand(n, 1) \n",
    "\n",
    "# The following will do an absolute value function\n",
    "#y_data = -2 + np.abs(x_data) + 0.3*np.random.rand(n, 1)\n",
    "\n",
    "# The following will do a line with a modest bit of noise\n",
    "#y_data = -2 + 3* x_data + 1.5*np.random.rand(n, 1)\n",
    "\n",
    "\n",
    "    \n",
    "print(x_data)\n",
    "print(y_data)"
   ]
  },
  {
   "cell_type": "markdown",
   "metadata": {},
   "source": [
    "## Quick Look at the Data\n",
    "We will use pyplot from matplotlib"
   ]
  },
  {
   "cell_type": "code",
   "execution_count": 5,
   "metadata": {},
   "outputs": [
    {
     "data": {
      "image/png": "[encoded data removed]",
      "text/plain": [
       "<Figure size 432x288 with 1 Axes>"
      ]
     },
     "metadata": {},
     "output_type": "display_data"
    }
   ],
   "source": [
    "import matplotlib.pyplot as plt\n",
    "plt.scatter(x_data, y_data)\n",
    "plt.show()"
   ]
  },
  {
   "cell_type": "markdown",
   "metadata": {},
   "source": [
    "## Try fitting a Line (Linear Regression)"
   ]
  },
  {
   "cell_type": "code",
   "execution_count": 6,
   "metadata": {},
   "outputs": [
    {
     "name": "stdout",
     "output_type": "stream",
     "text": [
      "7.28663391009823 1.817469137977172\n"
     ]
    }
   ],
   "source": [
    "from sklearn.linear_model import LinearRegression\n",
    "linear_model = LinearRegression()\n",
    "linear_model.fit(x_data, y_data)\n",
    "\n",
    "intercept = linear_model.intercept_[0]\n",
    "slope = linear_model.coef_[0][0]\n",
    "print(intercept, slope)"
   ]
  },
  {
   "cell_type": "markdown",
   "metadata": {},
   "source": [
    "## Plot the line and the data"
   ]
  },
  {
   "cell_type": "code",
   "execution_count": 7,
   "metadata": {},
   "outputs": [
    {
     "name": "stdout",
     "output_type": "stream",
     "text": [
      "0.1\n"
     ]
    },
    {
     "data": {
      "image/png": "[encoded data removed]",
      "text/plain": [
       "<Figure size 432x288 with 1 Axes>"
      ]
     },
     "metadata": {},
     "output_type": "display_data"
    }
   ],
   "source": [
    "# Will use a list comprehension to create the curve points\n",
    "number_points = 100\n",
    "delta = (max_val - min_val)/number_points\n",
    "print(delta)\n",
    "x_curve = [ i*delta + min_val for i in range(number_points) ]\n",
    "y_curve = [ intercept + slope*x for x in x_curve]\n",
    "\n",
    "plt.scatter(x_data, y_data)\n",
    "plt.plot(x_curve, y_curve)\n",
    "plt.show()\n"
   ]
  },
  {
   "cell_type": "markdown",
   "metadata": {},
   "source": [
    "## Try fitting with a quadratic"
   ]
  },
  {
   "cell_type": "code",
   "execution_count": 8,
   "metadata": {},
   "outputs": [
    {
     "name": "stdout",
     "output_type": "stream",
     "text": [
      "-1.1611292412107446 [1.83557729 0.99270591]\n"
     ]
    }
   ],
   "source": [
    "from sklearn.preprocessing import PolynomialFeatures\n",
    "create_poly_terms = PolynomialFeatures(degree=2, include_bias=False)\n",
    "x_poly_terms = create_poly_terms.fit_transform(x_data)\n",
    "\n",
    "quad_model = LinearRegression()\n",
    "quad_model.fit(x_poly_terms, y_data)\n",
    "\n",
    "intercept = quad_model.intercept_[0]\n",
    "coefs = quad_model.coef_[0]\n",
    "print(intercept, coefs)"
   ]
  },
  {
   "cell_type": "code",
   "execution_count": 9,
   "metadata": {
    "scrolled": true
   },
   "outputs": [
    {
     "name": "stdout",
     "output_type": "stream",
     "text": [
      "0.1\n"
     ]
    },
    {
     "data": {
      "image/png": "[encoded data removed]",
      "text/plain": [
       "<Figure size 432x288 with 1 Axes>"
      ]
     },
     "metadata": {},
     "output_type": "display_data"
    }
   ],
   "source": [
    "number_points = 100\n",
    "delta = (max_val - min_val)/number_points\n",
    "print(delta)\n",
    "x_curve = [ i*delta + min_val for i in range(number_points) ]\n",
    "y_curve = [ intercept + coefs[0]*x + coefs[1]*x**2 for x in x_curve]\n",
    "\n",
    "plt.scatter(x_data, y_data)\n",
    "plt.plot(x_curve, y_curve)\n",
    "plt.show()"
   ]
  },
  {
   "cell_type": "markdown",
   "metadata": {},
   "source": [
    "## Try Fitting with a degree K polynomial"
   ]
  },
  {
   "cell_type": "code",
   "execution_count": 14,
   "metadata": {},
   "outputs": [
    {
     "name": "stdout",
     "output_type": "stream",
     "text": [
      "2.318788824979084 [-4.52123003e-23  8.86205445e-24 -2.81100497e-26 -2.31915879e-28\n",
      " -2.09141098e-28 -2.03660092e-25  4.25669557e-29 -3.13034801e-26\n",
      " -5.59852852e-27  1.04521859e-25  4.86298602e-28 -2.15792496e-27\n",
      " -4.71256674e-28 -5.30844376e-28 -5.50594188e-28 -5.84682460e-28\n",
      " -3.86220340e-28 -7.74737302e-28 -8.47821459e-28 -9.24857387e-28\n",
      " -9.85722723e-28 -1.06145257e-27 -8.89482543e-28 -8.68962097e-28\n",
      "  2.00668688e-27  2.10927651e-27  3.44169494e-26  3.94932324e-26\n",
      "  3.72376577e-25  3.44668859e-25  3.58722689e-24  2.93591504e-24\n",
      "  3.23675627e-23  2.30752558e-23  2.63936573e-22  1.62053578e-22\n",
      "  1.85095454e-21  9.63791262e-22  1.01040390e-20  4.36433297e-21\n",
      "  3.26574009e-20  1.12919789e-20 -7.77520558e-21 -2.69147699e-21\n",
      "  6.68313346e-22  2.29896314e-22 -2.51341256e-23 -8.57334635e-24\n",
      "  3.50343088e-25  1.18335799e-25]\n"
     ]
    }
   ],
   "source": [
    "K = 50\n",
    "\n",
    "create_poly_terms = PolynomialFeatures(degree=K, include_bias=False)\n",
    "x_poly_terms = create_poly_terms.fit_transform(x_data)\n",
    "\n",
    "poly_model = LinearRegression()\n",
    "poly_model.fit(x_poly_terms, y_data)\n",
    "\n",
    "intercept = poly_model.intercept_[0]\n",
    "coefs = poly_model.coef_[0]\n",
    "print(intercept, coefs)"
   ]
  },
  {
   "cell_type": "code",
   "execution_count": 15,
   "metadata": {
    "scrolled": true
   },
   "outputs": [
    {
     "name": "stdout",
     "output_type": "stream",
     "text": [
      "0.01\n"
     ]
    },
    {
     "data": {
      "image/png": "[encoded data removed]",
      "text/plain": [
       "<Figure size 432x288 with 1 Axes>"
      ]
     },
     "metadata": {},
     "output_type": "display_data"
    }
   ],
   "source": [
    "def poly_eval(intercept, coefs, x, y_min, y_max):\n",
    "    value = intercept\n",
    "    x_power = x\n",
    "    for coef in coefs:\n",
    "        term = coef * x_power\n",
    "        x_power *= x\n",
    "        value += term\n",
    "    # Clip values \n",
    "    if value < y_min: return y_min\n",
    "    if value > y_max: return y_max\n",
    "    return value\n",
    "\n",
    "plt.scatter(x_data, y_data)\n",
    "# Get the bounds from the scatter data\n",
    "[y_min, y_max] = plt.gca().get_ylim()\n",
    "\n",
    "\n",
    "number_points = 1000\n",
    "delta = (max_val - min_val)/number_points\n",
    "print(delta)\n",
    "x_curve = [ i*delta + min_val for i in range(number_points) ]\n",
    "y_curve = [ poly_eval(intercept, coefs, x, y_min, y_max) for x in x_curve]\n",
    "\n",
    "\n",
    "plt.plot(x_curve, y_curve)\n",
    "\n",
    "\n",
    "plt.show()"
   ]
  },
  {
   "cell_type": "markdown",
   "metadata": {},
   "source": [
    "## _Notes_\n",
    "If the max degree of the polynomial is K, then the number of paramters is K+1.  As the number of random data points gets closer and closer to K, the polynomial does a better job of fitting the data by virtue of going through all the points.  Unfortunately, this also causes the function to have wild swings.  This is clearly not a good fit for the data."
   ]
  }
 ],
 "metadata": {
  "kernelspec": {
   "display_name": "Python 3",
   "language": "python",
   "name": "python3"
  },
  "language_info": {
   "codemirror_mode": {
    "name": "ipython",
    "version": 3
   },
   "file_extension": ".py",
   "mimetype": "text/x-python",
   "name": "python",
   "nbconvert_exporter": "python",
   "pygments_lexer": "ipython3",
   "version": "3.7.1"
  }
 },
 "nbformat": 4,
 "nbformat_minor": 2
}
