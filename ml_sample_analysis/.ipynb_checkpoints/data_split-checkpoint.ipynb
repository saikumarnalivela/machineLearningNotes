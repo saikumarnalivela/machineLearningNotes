{
 "cells": [
  {
   "cell_type": "markdown",
   "metadata": {},
   "source": [
    "# Spliting A Data Set"
   ]
  },
  {
   "cell_type": "markdown",
   "metadata": {},
   "source": [
    "## Using Numpy to perform the split\n",
    "It is useful to see how we can write a function that will split our data set using numpy.  A few segments later, we will use built functions from SciKit Learning."
   ]
  },
  {
   "cell_type": "code",
   "execution_count": 5,
   "metadata": {},
   "outputs": [
    {
     "name": "stdout",
     "output_type": "stream",
     "text": [
      "436 108\n",
      "      height     weight   age  male\n",
      "332   81.915  11.878440   2.0     1\n",
      "210  143.510  31.071052  18.0     0\n",
      "185  142.875  32.205032  17.0     0\n",
      "370   83.820   9.213587   1.0     0\n",
      "543  158.750  52.531624  68.0     1\n",
      "      height     weight   age  male\n",
      "457  163.830  55.394923  43.0     1\n",
      "257  163.195  48.137451  67.0     1\n",
      "357  152.400  43.431434  21.0     0\n",
      "532  156.210  41.050076  53.0     1\n",
      "542   71.120   8.051258   0.0     1\n"
     ]
    }
   ],
   "source": [
    "import numpy as np\n",
    "def fractional_split(data_set, test_fraction=0.2, seed=42):\n",
    "    data_count = len(data_set)\n",
    "    test_count = int(test_fraction*data_count)\n",
    "    \n",
    "    np.random.seed(seed)\n",
    "    shuffled_indices = np.random.permutation(data_count)\n",
    "    \n",
    "    # Use the front of the shuffled list as the test set\n",
    "    # Use the bask of the shuffled list as the training set\n",
    "    test_indices = shuffled_indices[:test_count]\n",
    "    train_indices = shuffled_indices[test_count:]\n",
    "    \n",
    "    return data_set.iloc[train_indices], data_set.iloc[test_indices]\n",
    "\n",
    "import pandas as pd\n",
    "\n",
    "data_frame = pd.read_csv(\"h.csv\", sep=\";\")\n",
    "\n",
    "train_set, test_set = fractional_split(data_frame)\n",
    "\n",
    "print(len(train_set), len(test_set))\n",
    "print(train_set.head())\n",
    "print(test_set.head())\n"
   ]
  },
  {
   "cell_type": "markdown",
   "metadata": {},
   "source": [
    "## Using Scikit Learning to perform the split\n",
    "The train_test_split function performes much like the one we wrote.  It shuffles the data and then uses a fraction to split the data set.  You can pass in a seed for the random number generator"
   ]
  },
  {
   "cell_type": "code",
   "execution_count": 13,
   "metadata": {},
   "outputs": [
    {
     "name": "stdout",
     "output_type": "stream",
     "text": [
      "435 109\n",
      "      height     weight   age  male\n",
      "55    97.790  12.757275   5.0     0\n",
      "543  158.750  52.531624  68.0     1\n",
      "287  167.005  50.603858  49.0     1\n",
      "166  141.605  44.338618  24.0     0\n",
      "132  163.195  53.098613  22.0     1\n",
      "      height     weight   age  male\n",
      "138  141.605  29.313383  15.0     1\n",
      "308  157.480  49.214732  18.0     0\n",
      "440   64.135   6.662132   1.0     0\n",
      "282  147.320  35.947166  40.0     0\n",
      "356  152.400  43.544832  63.0     0\n"
     ]
    }
   ],
   "source": [
    "from sklearn.model_selection import train_test_split\n",
    "\n",
    "train_set, test_set = train_test_split(data_frame, test_size=0.2, random_state=123)\n",
    "print(len(train_set), len(test_set))\n",
    "print(train_set.head())\n",
    "print(test_set.head())\n"
   ]
  },
  {
   "cell_type": "markdown",
   "metadata": {},
   "source": [
    "## Performing a Stratified Sample\n",
    "\n",
    "### Using an existing feature\n",
    "Suppose that we want both the test set and the training set to have the same ration of men to women as the original data set.  In the Howell data set there are 287 women and 257 men. \n",
    "\n",
    "We can use the StratifiedShuffleSplit class to create our training and test sets\n",
    "\n",
    "We will just do a one fold split. \n",
    "\n"
   ]
  },
  {
   "cell_type": "code",
   "execution_count": 22,
   "metadata": {},
   "outputs": [
    {
     "name": "stdout",
     "output_type": "stream",
     "text": [
      "0    287\n",
      "1    257\n",
      "Name: male, dtype: int64\n",
      "0    229\n",
      "1    206\n",
      "Name: male, dtype: int64\n",
      "0    58\n",
      "1    51\n",
      "Name: male, dtype: int64\n"
     ]
    }
   ],
   "source": [
    "from sklearn.model_selection import StratifiedShuffleSplit\n",
    "\n",
    "print(data_frame[\"male\"].value_counts())\n",
    "\n",
    "splitter = StratifiedShuffleSplit(n_splits = 1, test_size=0.2, random_state=123)\n",
    "for train_indices, test_indices in splitter.split(data_frame, data_frame[\"male\"]):\n",
    "    #the body only executes once because the number of splits is one\n",
    "    train_set = data_frame.iloc[train_indices]\n",
    "    test_set = data_frame.iloc[test_indices]\n",
    "print(train_set[\"male\"].value_counts())\n",
    "print(test_set[\"male\"].value_counts())\n"
   ]
  },
  {
   "cell_type": "markdown",
   "metadata": {},
   "source": [
    "### Creating a new feature\n",
    "Sometimes the features that we get are not exactly what we want.  We can create a new feature out of old features.  For example, we can create a BMI feature out of the weight and height.  Assuming that the height is in cm and the weight is in kg we can compute the BMI = $10000 \\times weight\\over{height*height}$."
   ]
  },
  {
   "cell_type": "code",
   "execution_count": 24,
   "metadata": {},
   "outputs": [
    {
     "data": {
      "text/html": [
       "<div>\n",
       "<style scoped>\n",
       "    .dataframe tbody tr th:only-of-type {\n",
       "        vertical-align: middle;\n",
       "    }\n",
       "\n",
       "    .dataframe tbody tr th {\n",
       "        vertical-align: top;\n",
       "    }\n",
       "\n",
       "    .dataframe thead th {\n",
       "        text-align: right;\n",
       "    }\n",
       "</style>\n",
       "<table border=\"1\" class=\"dataframe\">\n",
       "  <thead>\n",
       "    <tr style=\"text-align: right;\">\n",
       "      <th></th>\n",
       "      <th>height</th>\n",
       "      <th>weight</th>\n",
       "      <th>age</th>\n",
       "      <th>male</th>\n",
       "      <th>bmi</th>\n",
       "    </tr>\n",
       "  </thead>\n",
       "  <tbody>\n",
       "    <tr>\n",
       "      <th>0</th>\n",
       "      <td>151.765</td>\n",
       "      <td>47.825606</td>\n",
       "      <td>63.0</td>\n",
       "      <td>1</td>\n",
       "      <td>20.764297</td>\n",
       "    </tr>\n",
       "    <tr>\n",
       "      <th>1</th>\n",
       "      <td>139.700</td>\n",
       "      <td>36.485807</td>\n",
       "      <td>63.0</td>\n",
       "      <td>0</td>\n",
       "      <td>18.695244</td>\n",
       "    </tr>\n",
       "    <tr>\n",
       "      <th>2</th>\n",
       "      <td>136.525</td>\n",
       "      <td>31.864838</td>\n",
       "      <td>65.0</td>\n",
       "      <td>0</td>\n",
       "      <td>17.095718</td>\n",
       "    </tr>\n",
       "    <tr>\n",
       "      <th>3</th>\n",
       "      <td>156.845</td>\n",
       "      <td>53.041915</td>\n",
       "      <td>41.0</td>\n",
       "      <td>1</td>\n",
       "      <td>21.561444</td>\n",
       "    </tr>\n",
       "    <tr>\n",
       "      <th>4</th>\n",
       "      <td>145.415</td>\n",
       "      <td>41.276872</td>\n",
       "      <td>51.0</td>\n",
       "      <td>0</td>\n",
       "      <td>19.520384</td>\n",
       "    </tr>\n",
       "  </tbody>\n",
       "</table>\n",
       "</div>"
      ],
      "text/plain": [
       "    height     weight   age  male        bmi\n",
       "0  151.765  47.825606  63.0     1  20.764297\n",
       "1  139.700  36.485807  63.0     0  18.695244\n",
       "2  136.525  31.864838  65.0     0  17.095718\n",
       "3  156.845  53.041915  41.0     1  21.561444\n",
       "4  145.415  41.276872  51.0     0  19.520384"
      ]
     },
     "execution_count": 24,
     "metadata": {},
     "output_type": "execute_result"
    }
   ],
   "source": [
    "data_frame[\"bmi\"] = 10000*data_frame[\"weight\"]/(data_frame[\"height\"]**2)\n",
    "data_frame.head()"
   ]
  },
  {
   "cell_type": "markdown",
   "metadata": {},
   "source": [
    "### Stratifying on a continuous feature\n",
    "We need to group together the values into a discrete number of layers.  Then we can sample.\n"
   ]
  },
  {
   "cell_type": "code",
   "execution_count": 41,
   "metadata": {},
   "outputs": [
    {
     "name": "stdout",
     "output_type": "stream",
     "text": [
      "1    341\n",
      "2    202\n",
      "3      1\n",
      "Name: bmi_category, dtype: int64\n",
      "1    341\n",
      "2    203\n",
      "Name: bmi_category, dtype: int64\n",
      "1    273\n",
      "2    162\n",
      "Name: bmi_category, dtype: int64\n",
      "1    68\n",
      "2    41\n",
      "Name: bmi_category, dtype: int64\n"
     ]
    }
   ],
   "source": [
    "#Divide into evenly sized discrete buckets\n",
    "data_frame[\"bmi_category\"] = np.ceil(data_frame[\"bmi\"]/3)\n",
    "data_frame.head()\n",
    "data_frame[\"bmi_category\"].value_counts()\n",
    "\n",
    "#Use a function to define the categories\n",
    "def bmi_rater(bmi):\n",
    "    if bmi < 18.5 : return 1\n",
    "    if bmi < 25 : return 2\n",
    "    if bmi < 30 : return 3\n",
    "    return 4\n",
    "# And then map it onto the bmi\n",
    "data_frame[\"bmi_category\"] = data_frame[\"bmi\"].map(bmi_rater)\n",
    "data_frame.head()\n",
    "print(data_frame[\"bmi_category\"].value_counts())\n",
    "\n",
    "# Merge all the categories above 2 down to two\n",
    "# where takes a condition to keep the value and a new value otherwise\n",
    "# and we don't make a copy\n",
    "data_frame[\"bmi_category\"].where(data_frame[\"bmi_category\"] <= 2, 2, inplace=True)\n",
    "print(data_frame[\"bmi_category\"].value_counts())\n",
    "\n",
    "\n",
    "splitter = StratifiedShuffleSplit(n_splits = 1, test_size=0.2, random_state=123)\n",
    "for train_indices, test_indices in splitter.split(data_frame, data_frame[\"bmi_category\"]):\n",
    "    #the body only executes once because the number of splits is one\n",
    "    train_set = data_frame.iloc[train_indices]\n",
    "    test_set = data_frame.iloc[test_indices]\n",
    "print(train_set[\"bmi_category\"].value_counts())\n",
    "print(test_set[\"bmi_category\"].value_counts())"
   ]
  },
  {
   "cell_type": "markdown",
   "metadata": {},
   "source": [
    "## Make a working copy\n",
    "It is useful to make a copy of the training set. We may want to make additional transformations to it, so we will clone it as needed."
   ]
  },
  {
   "cell_type": "code",
   "execution_count": 42,
   "metadata": {},
   "outputs": [
    {
     "name": "stdout",
     "output_type": "stream",
     "text": [
      "       height     weight   age  male        bmi  bmi_category\n",
      "15   163.1950  48.562694  36.0     1  18.234299             1\n",
      "495  141.6050  42.885420  43.0     0  21.387129             2\n",
      "385  152.4000  45.160753  38.0     0  19.444252             2\n",
      "111  162.5600  45.954540  35.0     1  17.390058             1\n",
      "457  163.8300  55.394923  43.0     1  20.638736             2\n",
      "80   147.9550  41.900561  17.0     0  19.140820             2\n",
      "358   81.2800  11.509897   1.0     1  17.422242             1\n",
      "294  152.4000  43.856676  33.0     1  18.882773             2\n",
      "126   96.5200  13.097469   5.0     1  14.058946             1\n",
      "191  148.5900  43.885026  33.0     0  19.876376             2\n",
      "434  154.9400  39.179009  16.0     1  16.320233             1\n",
      "16   157.4800  42.325803  44.0     1  17.066890             1\n",
      "208  156.2100  44.338618  29.0     0  18.170400             1\n",
      "410  163.1950  51.029100  39.0     1  19.160384             2\n",
      "129  149.2250  42.155707  27.0     0  18.930984             2\n",
      "149  157.4800  44.565414  33.0     1  17.969961             1\n",
      "217  168.2750  54.600000  41.0     1  19.282061             2\n",
      "432  117.9830  20.354941   8.0     1  14.622815             1\n",
      "510  148.2852  38.441922  39.0     0  17.482739             1\n",
      "262  141.6050  36.202312  30.0     0  18.054236             1\n",
      "22   156.2100  42.722697  29.0     0  17.508180             1\n",
      "180  159.3850  50.178615  63.0     1  19.752578             2\n",
      "14   150.4950  33.849303  65.3     0  14.945333             1\n",
      "96   146.0500  42.807745  23.0     0  20.068699             2\n",
      "67   152.4000  36.485807  79.3     1  15.709198             1\n",
      "431  132.0800  28.292801  11.0     1  16.218169             1\n",
      "308  157.4800  49.214732  18.0     0  19.844690             2\n",
      "143  149.2250  38.130078  17.0     1  17.123184             1\n",
      "540  162.5600  52.163080  31.0     1  19.739486             2\n",
      "323   85.0900  11.453198   3.0     1  15.818661             1\n",
      "..        ...        ...   ...   ...        ...           ...\n",
      "214  157.4800  50.178615  42.0     1  20.233353             2\n",
      "444  147.3200  48.959587  25.0     0  22.558713             2\n",
      "321  160.0200  54.601137  28.0     0  21.323238             2\n",
      "516  153.6700  44.225220  26.0     0  18.728018             2\n",
      "322  149.2250  45.075705  47.0     0  20.242277             2\n",
      "525  132.7150  24.975910  15.0     1  14.180165             1\n",
      "401   66.0400   7.569316   1.0     1  17.355716             1\n",
      "72   153.6700  48.307548  38.0     1  20.456758             2\n",
      "423  158.7500  48.676091  28.0     1  19.314712             2\n",
      "335  150.4950  41.900561  55.0     0  18.500169             2\n",
      "393  137.1600  27.158821  12.0     1  14.436302             1\n",
      "133  161.9250  50.235314  43.0     1  19.159374             2\n",
      "297  143.5100  34.841535  16.0     1  16.917374             1\n",
      "166  141.6050  44.338618  24.0     0  22.111845             2\n",
      "465  157.4800  41.305222  17.0     1  16.655365             1\n",
      "244  146.0500  31.864838  44.0     0  14.938555             1\n",
      "265  105.4100  15.223681   5.0     0  13.701120             1\n",
      "451  149.8600  38.045029  22.0     0  16.940509             1\n",
      "460  154.9400  48.477645  30.0     1  20.193631             2\n",
      "177  159.3850  48.846189  32.0     1  19.228074             2\n",
      "386  155.5750  45.529297  21.0     0  18.810976             2\n",
      "461  152.4000  43.062891  29.0     0  18.541004             2\n",
      "131  100.0760  15.081934   6.0     1  15.059036             1\n",
      "462   62.2300   7.257472   0.0     0  18.740698             2\n",
      "199  114.3000  18.342127   7.0     1  14.039680             1\n",
      "26   148.5900  37.903281  45.0     0  17.167128             1\n",
      "226  123.1900  20.808533   8.0     1  13.711676             1\n",
      "517   53.9750   4.252425   0.0     0  14.596588             1\n",
      "452   76.2000   8.504850   1.0     0  14.647271             1\n",
      "459  160.0200  54.204244  27.0     1  21.168240             2\n",
      "\n",
      "[435 rows x 6 columns]\n"
     ]
    }
   ],
   "source": [
    "\n",
    "\n",
    "\n",
    "working_set = train_set.copy()\n",
    "print(working_set)"
   ]
  }
 ],
 "metadata": {
  "kernelspec": {
   "display_name": "Python 3 (Spyder)",
   "language": "python3",
   "name": "python3"
  },
  "language_info": {
   "codemirror_mode": {
    "name": "ipython",
    "version": 3
   },
   "file_extension": ".py",
   "mimetype": "text/x-python",
   "name": "python",
   "nbconvert_exporter": "python",
   "pygments_lexer": "ipython3",
   "version": "3.7.0"
  }
 },
 "nbformat": 4,
 "nbformat_minor": 2
}
