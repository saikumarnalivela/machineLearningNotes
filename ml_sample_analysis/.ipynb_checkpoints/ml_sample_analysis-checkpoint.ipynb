{
 "cells": [
  {
   "cell_type": "markdown",
   "metadata": {},
   "source": [
    "# Main Steps in the Machine Learning Process"
   ]
  },
  {
   "cell_type": "markdown",
   "metadata": {},
   "source": [
    "## Ask a question!"
   ]
  },
  {
   "cell_type": "markdown",
   "metadata": {},
   "source": [
    "## Find data set/s related to that question\n",
    "There are a lot of open data sets out there that you can access. Some places that you can find data sets are listed below, but there are plenty of data sets out there.\n",
    "\n",
    "1. Kaggle - Lots of interesting data sets  https://www.kaggle.com/datasets\n",
    "1. UC Irvine Machine Learning Repo - A venerable source of data.  Some what dated now.  http://mlr.cs.umass.edu/ml/\n",
    "1. US government.  The open data sets from the US government. https://catalog.data.gov/dataset (_Many organinizations/governments make data sets available. I have given three, but check around for others._) \n",
    "1. UK data sets https://www.ukdataservice.ac.uk\n",
    "1. IMF data setshttps://www.imf.org/en/Data\n",
    "1. Amazon AWS data sets - Data sets that can be aquired through AWS services https://registry.opendata.aws\n",
    "1. Wikipedia list of data sets - https://en.wikipedia.org/wiki/List_of_datasets_for_machine_learning_research\n",
    "1. 538 - Politics and sports opinions https://fivethirtyeight.com\n",
    "1. Awesome data - a collection of data sets on github https://github.com/awesomedata/awesome-public-datasets\n",
    "\n",
    "One final option is to scrape data from existing web sites and build your own data set."
   ]
  },
  {
   "cell_type": "markdown",
   "metadata": {},
   "source": [
    "On kaggel we do the search _in:datasets height_ and discover a few data sets that have height information.  Kaggel allows you to see the basic stats on each of the columns in the data which we will do in a bit using pandas.  We choose to use the set\n",
    "https://www.kaggle.com/mustafaali96/weight-height  which has 3 columns gender, height, weight.\n",
    "\n"
   ]
  },
  {
   "cell_type": "markdown",
   "metadata": {},
   "source": [
    "## Acquire the data\n",
    "You may want to create a work space and then download the data set into the workspace so you have a local copy to work with.  If you are working with a very large data set, you may choose to only download a part of the set."
   ]
  },
  {
   "cell_type": "markdown",
   "metadata": {},
   "source": [
    "Normally, we would use python packages for urls, os and tarfiles to download the data, but Kaggle will only allow access via their own web facing API. \n",
    "\n",
    "We will need an account, but it's free!\n",
    "\n",
    "We click the download button and acquire the data set. It has the name weight-height.csv and is a comma separated value file with one record per line.\n",
    "\n",
    "We will never make changes in this data file.  We may decide to ignore some of the data, but we will make that part of the preprocessing of data that we do before applying our model.  If you are particularly paranoid, you might want to create a copy of the CSV file."
   ]
  },
  {
   "cell_type": "markdown",
   "metadata": {},
   "source": [
    "## Look at the forrest of the data\n",
    "At this point we want to look at the overall picture of the data.  We are not yet trying to do a detailed analysis, but there are some basic questions we want to answer about our data set.\n",
    "\n",
    "1. In each record of data what are the features?\n",
    "2. What are the range of values (min, median/average, max)\n",
    "3. Do I have values that are not numeric?\n",
    "4. Do I have records that are missing features?\n"
   ]
  },
  {
   "cell_type": "markdown",
   "metadata": {},
   "source": [
    "Now that we have a CSV file to work with, lets use pandas to examine the data.\n",
    "\n",
    "The first thing we will do is to pull all the data from the CSV file into a pandas dataframe and then look at the first five lines using the head() function."
   ]
  },
  {
   "cell_type": "code",
   "execution_count": 64,
   "metadata": {},
   "outputs": [
    {
     "data": {
      "text/html": [
       "<div>\n",
       "<style scoped>\n",
       "    .dataframe tbody tr th:only-of-type {\n",
       "        vertical-align: middle;\n",
       "    }\n",
       "\n",
       "    .dataframe tbody tr th {\n",
       "        vertical-align: top;\n",
       "    }\n",
       "\n",
       "    .dataframe thead th {\n",
       "        text-align: right;\n",
       "    }\n",
       "</style>\n",
       "<table border=\"1\" class=\"dataframe\">\n",
       "  <thead>\n",
       "    <tr style=\"text-align: right;\">\n",
       "      <th></th>\n",
       "      <th>Gender</th>\n",
       "      <th>Height</th>\n",
       "      <th>Weight</th>\n",
       "      <th>Index</th>\n",
       "    </tr>\n",
       "  </thead>\n",
       "  <tbody>\n",
       "    <tr>\n",
       "      <th>0</th>\n",
       "      <td>Male</td>\n",
       "      <td>174</td>\n",
       "      <td>96</td>\n",
       "      <td>4</td>\n",
       "    </tr>\n",
       "    <tr>\n",
       "      <th>1</th>\n",
       "      <td>Male</td>\n",
       "      <td>189</td>\n",
       "      <td>87</td>\n",
       "      <td>2</td>\n",
       "    </tr>\n",
       "    <tr>\n",
       "      <th>2</th>\n",
       "      <td>Female</td>\n",
       "      <td>185</td>\n",
       "      <td>110</td>\n",
       "      <td>4</td>\n",
       "    </tr>\n",
       "    <tr>\n",
       "      <th>3</th>\n",
       "      <td>Female</td>\n",
       "      <td>195</td>\n",
       "      <td>104</td>\n",
       "      <td>3</td>\n",
       "    </tr>\n",
       "    <tr>\n",
       "      <th>4</th>\n",
       "      <td>Male</td>\n",
       "      <td>149</td>\n",
       "      <td>61</td>\n",
       "      <td>3</td>\n",
       "    </tr>\n",
       "  </tbody>\n",
       "</table>\n",
       "</div>"
      ],
      "text/plain": [
       "   Gender  Height  Weight  Index\n",
       "0    Male     174      96      4\n",
       "1    Male     189      87      2\n",
       "2  Female     185     110      4\n",
       "3  Female     195     104      3\n",
       "4    Male     149      61      3"
      ]
     },
     "execution_count": 64,
     "metadata": {},
     "output_type": "execute_result"
    }
   ],
   "source": [
    "import pandas as pd\n",
    "\n",
    "#data_frame = pd.read_csv(\"weight-height.csv\")\n",
    "data_frame = pd.read_csv(\"500_Person_Gender_Height_Weight_Index.csv\")\n",
    "#data_frame = pd.read_csv(\"howell.csv\")\n",
    "data_frame.head()"
   ]
  },
  {
   "cell_type": "markdown",
   "metadata": {},
   "source": [
    "Our data has three dimensions (pieces of data in each record).\n",
    "\n",
    "What to notice.  The first five genders are all male. We will probably need to be careful when we set aside our test set since these are probably not in random order.  Height and weight have different scales, so we will may want to transform the data before feeding it into the model.  \n",
    "\n",
    "Lets get a quick overview of the data using the info() function."
   ]
  },
  {
   "cell_type": "code",
   "execution_count": 51,
   "metadata": {},
   "outputs": [
    {
     "name": "stdout",
     "output_type": "stream",
     "text": [
      "<class 'pandas.core.frame.DataFrame'>\n",
      "RangeIndex: 544 entries, 0 to 543\n",
      "Data columns (total 4 columns):\n",
      "height    544 non-null float64\n",
      "weight    544 non-null float64\n",
      "age       544 non-null float64\n",
      "male      544 non-null int64\n",
      "dtypes: float64(3), int64(1)\n",
      "memory usage: 17.1 KB\n"
     ]
    }
   ],
   "source": [
    "data_frame.info()"
   ]
  },
  {
   "cell_type": "markdown",
   "metadata": {},
   "source": [
    "We see that we have 10000 entries. (This is a pretty small dataset.)  Gender is an object of some kind.  Height and Weight are floating point values.  We don't have any missing data values.\n",
    "\n",
    "Lets pull out information about the Gender field using the value_counts() method"
   ]
  },
  {
   "cell_type": "code",
   "execution_count": 53,
   "metadata": {},
   "outputs": [
    {
     "data": {
      "text/plain": [
       "0    287\n",
       "1    257\n",
       "Name: male, dtype: int64"
      ]
     },
     "execution_count": 53,
     "metadata": {},
     "output_type": "execute_result"
    }
   ],
   "source": [
    "data_frame[\"male\"].value_counts()"
   ]
  },
  {
   "cell_type": "markdown",
   "metadata": {},
   "source": [
    "We have two values, Male and Female with 5000 of each.  Presumably all the Male values and then all the Female values.\n",
    "\n",
    "Lets look at numerical fields using the describe() function. We get some basic information."
   ]
  },
  {
   "cell_type": "code",
   "execution_count": 54,
   "metadata": {},
   "outputs": [
    {
     "data": {
      "text/html": [
       "<div>\n",
       "<style scoped>\n",
       "    .dataframe tbody tr th:only-of-type {\n",
       "        vertical-align: middle;\n",
       "    }\n",
       "\n",
       "    .dataframe tbody tr th {\n",
       "        vertical-align: top;\n",
       "    }\n",
       "\n",
       "    .dataframe thead th {\n",
       "        text-align: right;\n",
       "    }\n",
       "</style>\n",
       "<table border=\"1\" class=\"dataframe\">\n",
       "  <thead>\n",
       "    <tr style=\"text-align: right;\">\n",
       "      <th></th>\n",
       "      <th>height</th>\n",
       "      <th>weight</th>\n",
       "      <th>age</th>\n",
       "      <th>male</th>\n",
       "    </tr>\n",
       "  </thead>\n",
       "  <tbody>\n",
       "    <tr>\n",
       "      <th>count</th>\n",
       "      <td>544.000000</td>\n",
       "      <td>544.000000</td>\n",
       "      <td>544.000000</td>\n",
       "      <td>544.000000</td>\n",
       "    </tr>\n",
       "    <tr>\n",
       "      <th>mean</th>\n",
       "      <td>138.263596</td>\n",
       "      <td>35.610618</td>\n",
       "      <td>29.344393</td>\n",
       "      <td>0.472426</td>\n",
       "    </tr>\n",
       "    <tr>\n",
       "      <th>std</th>\n",
       "      <td>27.602448</td>\n",
       "      <td>14.719178</td>\n",
       "      <td>20.746888</td>\n",
       "      <td>0.499699</td>\n",
       "    </tr>\n",
       "    <tr>\n",
       "      <th>min</th>\n",
       "      <td>53.975000</td>\n",
       "      <td>4.252425</td>\n",
       "      <td>0.000000</td>\n",
       "      <td>0.000000</td>\n",
       "    </tr>\n",
       "    <tr>\n",
       "      <th>25%</th>\n",
       "      <td>125.095000</td>\n",
       "      <td>22.007717</td>\n",
       "      <td>12.000000</td>\n",
       "      <td>0.000000</td>\n",
       "    </tr>\n",
       "    <tr>\n",
       "      <th>50%</th>\n",
       "      <td>148.590000</td>\n",
       "      <td>40.057844</td>\n",
       "      <td>27.000000</td>\n",
       "      <td>0.000000</td>\n",
       "    </tr>\n",
       "    <tr>\n",
       "      <th>75%</th>\n",
       "      <td>157.480000</td>\n",
       "      <td>47.209005</td>\n",
       "      <td>43.000000</td>\n",
       "      <td>1.000000</td>\n",
       "    </tr>\n",
       "    <tr>\n",
       "      <th>max</th>\n",
       "      <td>179.070000</td>\n",
       "      <td>62.992589</td>\n",
       "      <td>88.000000</td>\n",
       "      <td>1.000000</td>\n",
       "    </tr>\n",
       "  </tbody>\n",
       "</table>\n",
       "</div>"
      ],
      "text/plain": [
       "           height      weight         age        male\n",
       "count  544.000000  544.000000  544.000000  544.000000\n",
       "mean   138.263596   35.610618   29.344393    0.472426\n",
       "std     27.602448   14.719178   20.746888    0.499699\n",
       "min     53.975000    4.252425    0.000000    0.000000\n",
       "25%    125.095000   22.007717   12.000000    0.000000\n",
       "50%    148.590000   40.057844   27.000000    0.000000\n",
       "75%    157.480000   47.209005   43.000000    1.000000\n",
       "max    179.070000   62.992589   88.000000    1.000000"
      ]
     },
     "execution_count": 54,
     "metadata": {},
     "output_type": "execute_result"
    }
   ],
   "source": [
    "data_frame.describe()"
   ]
  },
  {
   "cell_type": "markdown",
   "metadata": {},
   "source": [
    "To really understand what is going on in the data, we will need to see a distribution. One of the common ways of doing this is to use a histogram. "
   ]
  },
  {
   "cell_type": "code",
   "execution_count": 46,
   "metadata": {},
   "outputs": [
    {
     "data": {
      "text/plain": [
       "array([[<matplotlib.axes._subplots.AxesSubplot object at 0x1a222ed470>,\n",
       "        <matplotlib.axes._subplots.AxesSubplot object at 0x1a22334828>],\n",
       "       [<matplotlib.axes._subplots.AxesSubplot object at 0x1a223c2b38>,\n",
       "        <matplotlib.axes._subplots.AxesSubplot object at 0x1a223ede48>]],\n",
       "      dtype=object)"
      ]
     },
     "execution_count": 46,
     "metadata": {},
     "output_type": "execute_result"
    },
    {
     "data": {
      "image/png": "[encoded data removed]",
      "text/plain": [
       "<Figure size 432x288 with 4 Axes>"
      ]
     },
     "metadata": {},
     "output_type": "display_data"
    }
   ],
   "source": [
    "import matplotlib.pyplot as plt\n",
    "\n",
    "data_frame.hist(bins=30)"
   ]
  },
  {
   "cell_type": "markdown",
   "metadata": {},
   "source": [
    "Height looks to be more or less normally distributed, but weight is bi-modal.  We don't see any evidence of clipping or suspicious tails in the data.  Presumably, height is in inches and weight is in pounds.  Looking back at the data it is suspicious that height is given to 6 decimal points.  This makes me think that this may be a generated data set... Since this is for example purposes, we will continue on."
   ]
  },
  {
   "cell_type": "markdown",
   "metadata": {},
   "source": [
    "## Split the data in a training and a test set\n",
    "It is critical to split up your data set early on and sequester a test set.  You will train your model on the training set and then only after you have finished analyzing the data will you do a final evaluation of your model using the test set."
   ]
  },
  {
   "cell_type": "markdown",
   "metadata": {},
   "source": [
    "Ok, time to create the training set and test set.  We will randomly select 20% of the instances and put them aside.\n",
    "\n"
   ]
  },
  {
   "cell_type": "code",
   "execution_count": 19,
   "metadata": {},
   "outputs": [
    {
     "name": "stdout",
     "output_type": "stream",
     "text": [
      "      Gender     Height      Weight\n",
      "9216  Female  60.108590   98.088517\n",
      "7324  Female  56.810317   84.170695\n",
      "918     Male  66.202964  164.634464\n",
      "5902  Female  70.083921  165.771323\n",
      "2807    Male  67.966406  186.606552\n",
      "8138  Female  63.213963  142.566080\n",
      "9797  Female  61.200995  115.901129\n",
      "517     Male  65.856100  157.317461\n",
      "3782    Male  69.158344  155.324029\n",
      "2862    Male  70.963369  178.551191\n",
      "3557    Male  71.816095  205.756374\n",
      "8312  Female  65.799922  142.146438\n",
      "9443  Female  66.982819  172.084412\n",
      "5104  Female  61.994087  134.417292\n",
      "4410    Male  68.849989  193.762099\n",
      "9563  Female  64.019197  141.175989\n",
      "4629    Male  72.954895  214.511761\n",
      "5937  Female  64.831449  128.344592\n",
      "4750    Male  71.433305  196.380704\n",
      "9491  Female  62.384597  134.787501\n",
      "7843  Female  67.638118  152.026631\n",
      "697     Male  71.434727  206.594059\n",
      "8872  Female  61.864667  124.004191\n",
      "1710    Male  68.992994  166.795209\n",
      "4909    Male  70.372074  192.078251\n",
      "1288    Male  68.400867  182.259614\n",
      "4693    Male  69.308127  195.176476\n",
      "7016  Female  66.472568  162.580954\n",
      "4847    Male  67.683219  192.150042\n",
      "1854    Male  72.695624  220.866365\n",
      "...      ...        ...         ...\n",
      "7344  Female  62.988015  142.543947\n",
      "6077  Female  61.781452  119.956199\n",
      "6648  Female  64.322559  148.651472\n",
      "6740  Female  63.136871  117.305006\n",
      "9998  Female  69.034243  163.852461\n",
      "39      Male  64.304188  163.108017\n",
      "6484  Female  64.449342  140.337115\n",
      "1847    Male  65.420708  167.552032\n",
      "7985  Female  59.327637  100.470710\n",
      "1092    Male  71.620286  208.755718\n",
      "3325    Male  63.008723  158.316028\n",
      "2894    Male  71.977896  203.076479\n",
      "1363    Male  66.934650  175.040665\n",
      "3481    Male  71.702360  214.787698\n",
      "111     Male  68.190684  201.487962\n",
      "6368  Female  60.910024  120.271965\n",
      "942     Male  71.120753  197.345436\n",
      "5664  Female  66.586736  143.998415\n",
      "4169    Male  72.464760  225.633703\n",
      "4143    Male  68.993601  188.775622\n",
      "6782  Female  65.011253  143.397890\n",
      "6257  Female  64.861318  137.829508\n",
      "96      Male  71.701234  193.094164\n",
      "5857  Female  62.149296  131.114973\n",
      "7382  Female  62.485691  116.460807\n",
      "9785  Female  62.720294  136.135550\n",
      "7763  Female  66.317755  151.211972\n",
      "5218  Female  63.319818  119.315988\n",
      "1346    Male  68.997440  200.313016\n",
      "3582    Male  66.445147  163.293387\n",
      "\n",
      "[8000 rows x 3 columns]\n"
     ]
    }
   ],
   "source": [
    "import numpy as np\n",
    "\n",
    "def split_data(data, set_aside_percent):\n",
    "    # Make sure that the same sequence is used each time\n",
    "    np.random.seed(123)\n",
    "    \n",
    "    test_set_size = int(len(data) * set_aside_percent)\n",
    "    \n",
    "    # Permute the indices (nothing has happened to data)\n",
    "    shuffled_indices = np.random.permutation(len(data))\n",
    "    \n",
    "    # Use a slice up to test set size\n",
    "    test_set_indices = shuffled_indices[:test_set_size]\n",
    "    \n",
    "    # Use a slice of everything after\n",
    "    training_set_indices = shuffled_indices[test_set_size:]\n",
    "    \n",
    "    # Use iloc to grab the data lines at the given indices and\n",
    "    # return a pair\n",
    "    return data.iloc[training_set_indices], data.iloc[test_set_indices]\n",
    "    \n",
    "# Apply the function\n",
    "\n",
    "train_set, test_set = split_data(data_frame, 0.20)\n",
    "\n",
    "print(train_set)\n",
    "    \n",
    "    "
   ]
  },
  {
   "cell_type": "code",
   "execution_count": 20,
   "metadata": {},
   "outputs": [
    {
     "name": "stdout",
     "output_type": "stream",
     "text": [
      "      Gender     Height      Weight\n",
      "9216  Female  60.108590   98.088517\n",
      "7324  Female  56.810317   84.170695\n",
      "918     Male  66.202964  164.634464\n",
      "5902  Female  70.083921  165.771323\n",
      "2807    Male  67.966406  186.606552\n",
      "8138  Female  63.213963  142.566080\n",
      "9797  Female  61.200995  115.901129\n",
      "517     Male  65.856100  157.317461\n",
      "3782    Male  69.158344  155.324029\n",
      "2862    Male  70.963369  178.551191\n",
      "3557    Male  71.816095  205.756374\n",
      "8312  Female  65.799922  142.146438\n",
      "9443  Female  66.982819  172.084412\n",
      "5104  Female  61.994087  134.417292\n",
      "4410    Male  68.849989  193.762099\n",
      "9563  Female  64.019197  141.175989\n",
      "4629    Male  72.954895  214.511761\n",
      "5937  Female  64.831449  128.344592\n",
      "4750    Male  71.433305  196.380704\n",
      "9491  Female  62.384597  134.787501\n",
      "7843  Female  67.638118  152.026631\n",
      "697     Male  71.434727  206.594059\n",
      "8872  Female  61.864667  124.004191\n",
      "1710    Male  68.992994  166.795209\n",
      "4909    Male  70.372074  192.078251\n",
      "1288    Male  68.400867  182.259614\n",
      "4693    Male  69.308127  195.176476\n",
      "7016  Female  66.472568  162.580954\n",
      "4847    Male  67.683219  192.150042\n",
      "1854    Male  72.695624  220.866365\n",
      "...      ...        ...         ...\n",
      "7344  Female  62.988015  142.543947\n",
      "6077  Female  61.781452  119.956199\n",
      "6648  Female  64.322559  148.651472\n",
      "6740  Female  63.136871  117.305006\n",
      "9998  Female  69.034243  163.852461\n",
      "39      Male  64.304188  163.108017\n",
      "6484  Female  64.449342  140.337115\n",
      "1847    Male  65.420708  167.552032\n",
      "7985  Female  59.327637  100.470710\n",
      "1092    Male  71.620286  208.755718\n",
      "3325    Male  63.008723  158.316028\n",
      "2894    Male  71.977896  203.076479\n",
      "1363    Male  66.934650  175.040665\n",
      "3481    Male  71.702360  214.787698\n",
      "111     Male  68.190684  201.487962\n",
      "6368  Female  60.910024  120.271965\n",
      "942     Male  71.120753  197.345436\n",
      "5664  Female  66.586736  143.998415\n",
      "4169    Male  72.464760  225.633703\n",
      "4143    Male  68.993601  188.775622\n",
      "6782  Female  65.011253  143.397890\n",
      "6257  Female  64.861318  137.829508\n",
      "96      Male  71.701234  193.094164\n",
      "5857  Female  62.149296  131.114973\n",
      "7382  Female  62.485691  116.460807\n",
      "9785  Female  62.720294  136.135550\n",
      "7763  Female  66.317755  151.211972\n",
      "5218  Female  63.319818  119.315988\n",
      "1346    Male  68.997440  200.313016\n",
      "3582    Male  66.445147  163.293387\n",
      "\n",
      "[8000 rows x 3 columns]\n"
     ]
    }
   ],
   "source": [
    "# Use the built in scikit learning function\n",
    "from sklearn.model_selection import train_test_split\n",
    "train_set, test_set = train_test_split(data_frame, test_size=0.2, random_state=123)\n",
    "\n",
    "print(train_set)\n"
   ]
  },
  {
   "cell_type": "markdown",
   "metadata": {},
   "source": [
    "We may want to guarantee that certain properties of the data set are maintained in the test set.  For example, we might want to guarantee that the percentage of men and women in the test set matches the general population (Men 48.7%, Women 51.3%).  Another possibility is to match the percentage in the data set (Men 50.0%, Women 50.0%)\n",
    "This kind of sampling is called a stratefied sample.  We can use scikit to do this for us"
   ]
  },
  {
   "cell_type": "code",
   "execution_count": 61,
   "metadata": {},
   "outputs": [
    {
     "ename": "KeyError",
     "evalue": "'male'",
     "output_type": "error",
     "traceback": [
      "Traceback \u001b[0;36m(most recent call last)\u001b[0m:\n",
      "  File \u001b[1;32m\"<ipython-input-61-738d25382606>\"\u001b[0m, line \u001b[1;32m7\u001b[0m, in \u001b[1;35m<module>\u001b[0m\n    for train_index, test_index in split.split(data_frame, data_frame[\"male\"]):\n",
      "  File \u001b[1;32m\"/anaconda3/lib/python3.7/site-packages/pandas/core/frame.py\"\u001b[0m, line \u001b[1;32m2688\u001b[0m, in \u001b[1;35m__getitem__\u001b[0m\n    return self._getitem_column(key)\n",
      "  File \u001b[1;32m\"/anaconda3/lib/python3.7/site-packages/pandas/core/frame.py\"\u001b[0m, line \u001b[1;32m2695\u001b[0m, in \u001b[1;35m_getitem_column\u001b[0m\n    return self._get_item_cache(key)\n",
      "  File \u001b[1;32m\"/anaconda3/lib/python3.7/site-packages/pandas/core/generic.py\"\u001b[0m, line \u001b[1;32m2489\u001b[0m, in \u001b[1;35m_get_item_cache\u001b[0m\n    values = self._data.get(item)\n",
      "  File \u001b[1;32m\"/anaconda3/lib/python3.7/site-packages/pandas/core/internals.py\"\u001b[0m, line \u001b[1;32m4115\u001b[0m, in \u001b[1;35mget\u001b[0m\n    loc = self.items.get_loc(item)\n",
      "  File \u001b[1;32m\"/anaconda3/lib/python3.7/site-packages/pandas/core/indexes/base.py\"\u001b[0m, line \u001b[1;32m3080\u001b[0m, in \u001b[1;35mget_loc\u001b[0m\n    return self._engine.get_loc(self._maybe_cast_indexer(key))\n",
      "  File \u001b[1;32m\"pandas/_libs/index.pyx\"\u001b[0m, line \u001b[1;32m140\u001b[0m, in \u001b[1;35mpandas._libs.index.IndexEngine.get_loc\u001b[0m\n",
      "  File \u001b[1;32m\"pandas/_libs/index.pyx\"\u001b[0m, line \u001b[1;32m162\u001b[0m, in \u001b[1;35mpandas._libs.index.IndexEngine.get_loc\u001b[0m\n",
      "  File \u001b[1;32m\"pandas/_libs/hashtable_class_helper.pxi\"\u001b[0m, line \u001b[1;32m1492\u001b[0m, in \u001b[1;35mpandas._libs.hashtable.PyObjectHashTable.get_item\u001b[0m\n",
      "\u001b[0;36m  File \u001b[0;32m\"pandas/_libs/hashtable_class_helper.pxi\"\u001b[0;36m, line \u001b[0;32m1500\u001b[0;36m, in \u001b[0;35mpandas._libs.hashtable.PyObjectHashTable.get_item\u001b[0;36m\u001b[0m\n",
      "\u001b[0;31mKeyError\u001b[0m\u001b[0;31m:\u001b[0m 'male'\n"
     ]
    }
   ],
   "source": [
    "from sklearn.model_selection import StratifiedShuffleSplit\n",
    "\n",
    "# Set up an instance that will do the split for us, split on one feature\n",
    "split = StratifiedShuffleSplit( n_splits=1, test_size=0.2, random_state=123)\n",
    "\n",
    "# We are going to split on the gender\n",
    "for train_index, test_index in split.split(data_frame, data_frame[\"male\"]):\n",
    "    strat_train_set = data_frame.iloc[train_index]\n",
    "    strat_test_set = data_frame.iloc[test_index]\n",
    "    \n",
    "print(strat_test_set)\n",
    "\n",
    "# and lets check to see if the counts are happy\n",
    "strat_test_set[\"Gender\"].value_counts()\n"
   ]
  },
  {
   "cell_type": "markdown",
   "metadata": {},
   "source": [
    "We can add features to the dataframe if we want as well.\n",
    "\n",
    "We will take the value of the height divide by 5 and then use the ceiling to get our category"
   ]
  },
  {
   "cell_type": "code",
   "execution_count": 56,
   "metadata": {},
   "outputs": [
    {
     "ename": "KeyError",
     "evalue": "'Height'",
     "output_type": "error",
     "traceback": [
      "Traceback \u001b[0;36m(most recent call last)\u001b[0m:\n",
      "  File \u001b[1;32m\"<ipython-input-56-728c9b6db35d>\"\u001b[0m, line \u001b[1;32m1\u001b[0m, in \u001b[1;35m<module>\u001b[0m\n    data_frame[\"height_groups\"] = np.ceil(data_frame[\"Height\"] / 5)\n",
      "  File \u001b[1;32m\"/anaconda3/lib/python3.7/site-packages/pandas/core/frame.py\"\u001b[0m, line \u001b[1;32m2688\u001b[0m, in \u001b[1;35m__getitem__\u001b[0m\n    return self._getitem_column(key)\n",
      "  File \u001b[1;32m\"/anaconda3/lib/python3.7/site-packages/pandas/core/frame.py\"\u001b[0m, line \u001b[1;32m2695\u001b[0m, in \u001b[1;35m_getitem_column\u001b[0m\n    return self._get_item_cache(key)\n",
      "  File \u001b[1;32m\"/anaconda3/lib/python3.7/site-packages/pandas/core/generic.py\"\u001b[0m, line \u001b[1;32m2489\u001b[0m, in \u001b[1;35m_get_item_cache\u001b[0m\n    values = self._data.get(item)\n",
      "  File \u001b[1;32m\"/anaconda3/lib/python3.7/site-packages/pandas/core/internals.py\"\u001b[0m, line \u001b[1;32m4115\u001b[0m, in \u001b[1;35mget\u001b[0m\n    loc = self.items.get_loc(item)\n",
      "  File \u001b[1;32m\"/anaconda3/lib/python3.7/site-packages/pandas/core/indexes/base.py\"\u001b[0m, line \u001b[1;32m3080\u001b[0m, in \u001b[1;35mget_loc\u001b[0m\n    return self._engine.get_loc(self._maybe_cast_indexer(key))\n",
      "  File \u001b[1;32m\"pandas/_libs/index.pyx\"\u001b[0m, line \u001b[1;32m140\u001b[0m, in \u001b[1;35mpandas._libs.index.IndexEngine.get_loc\u001b[0m\n",
      "  File \u001b[1;32m\"pandas/_libs/index.pyx\"\u001b[0m, line \u001b[1;32m162\u001b[0m, in \u001b[1;35mpandas._libs.index.IndexEngine.get_loc\u001b[0m\n",
      "  File \u001b[1;32m\"pandas/_libs/hashtable_class_helper.pxi\"\u001b[0m, line \u001b[1;32m1492\u001b[0m, in \u001b[1;35mpandas._libs.hashtable.PyObjectHashTable.get_item\u001b[0m\n",
      "\u001b[0;36m  File \u001b[0;32m\"pandas/_libs/hashtable_class_helper.pxi\"\u001b[0;36m, line \u001b[0;32m1500\u001b[0;36m, in \u001b[0;35mpandas._libs.hashtable.PyObjectHashTable.get_item\u001b[0;36m\u001b[0m\n",
      "\u001b[0;31mKeyError\u001b[0m\u001b[0;31m:\u001b[0m 'Height'\n"
     ]
    }
   ],
   "source": [
    "data_frame[\"height_groups\"] = np.ceil(data_frame[\"Height\"] / 5)\n",
    "#print(data_frame)\n",
    "\n",
    "# and then use the stratified split from before on the new feature\n",
    "\n",
    "from sklearn.model_selection import StratifiedShuffleSplit\n",
    "\n",
    "# Set up an instance that will do the split for us, do one split only\n",
    "# We can do multiple folds for cross validation\n",
    "split = StratifiedShuffleSplit( n_splits=1, test_size=0.2, random_state=123)\n",
    "\n",
    "# We are going to split on the height category\n",
    "# Since n was 1, we only do the body one time\n",
    "for train_index, test_index in split.split(data_frame, data_frame[\"height_groups\"]):\n",
    "    h_strat_train_set = data_frame.iloc[train_index]\n",
    "    h_strat_test_set = data_frame.iloc[test_index]\n",
    "    \n",
    "#print(strat_test_set)\n",
    "\n",
    "# and lets check to see if the counts are happy\n",
    "print(h_strat_test_set[\"height_groups\"].value_counts())\n",
    "print(h_strat_train_set[\"height_groups\"].value_counts())"
   ]
  },
  {
   "cell_type": "markdown",
   "metadata": {},
   "source": [
    "## Visualize the data\n",
    "Make a copy of the training set and then lets do some graphs."
   ]
  },
  {
   "cell_type": "code",
   "execution_count": 63,
   "metadata": {},
   "outputs": [
    {
     "ename": "KeyError",
     "evalue": "\"['Height' 'Weight' 'Gender'] not in index\"",
     "output_type": "error",
     "traceback": [
      "Traceback \u001b[0;36m(most recent call last)\u001b[0m:\n",
      "  File \u001b[1;32m\"<ipython-input-63-feebdbf10190>\"\u001b[0m, line \u001b[1;32m7\u001b[0m, in \u001b[1;35m<module>\u001b[0m\n    scatter_matrix(working_set[compare])\n",
      "  File \u001b[1;32m\"/anaconda3/lib/python3.7/site-packages/pandas/core/frame.py\"\u001b[0m, line \u001b[1;32m2682\u001b[0m, in \u001b[1;35m__getitem__\u001b[0m\n    return self._getitem_array(key)\n",
      "  File \u001b[1;32m\"/anaconda3/lib/python3.7/site-packages/pandas/core/frame.py\"\u001b[0m, line \u001b[1;32m2726\u001b[0m, in \u001b[1;35m_getitem_array\u001b[0m\n    indexer = self.loc._convert_to_indexer(key, axis=1)\n",
      "\u001b[0;36m  File \u001b[0;32m\"/anaconda3/lib/python3.7/site-packages/pandas/core/indexing.py\"\u001b[0;36m, line \u001b[0;32m1327\u001b[0;36m, in \u001b[0;35m_convert_to_indexer\u001b[0;36m\u001b[0m\n\u001b[0;31m    .format(mask=objarr[mask]))\u001b[0m\n",
      "\u001b[0;31mKeyError\u001b[0m\u001b[0;31m:\u001b[0m \"['Height' 'Weight' 'Gender'] not in index\"\n"
     ]
    }
   ],
   "source": [
    "working_set = strat_train_set.copy()\n",
    "\n",
    "# we do scatter plots first\n",
    "from pandas.plotting import scatter_matrix\n",
    "\n",
    "compare = [\"Height\", \"Weight\", \"Gender\"]\n",
    "scatter_matrix(working_set[compare])"
   ]
  },
  {
   "cell_type": "markdown",
   "metadata": {},
   "source": [
    "## Prepare the data"
   ]
  },
  {
   "cell_type": "markdown",
   "metadata": {},
   "source": [
    "## Select and train a Model/s"
   ]
  },
  {
   "cell_type": "markdown",
   "metadata": {},
   "source": [
    "## Refine the Model"
   ]
  },
  {
   "cell_type": "markdown",
   "metadata": {},
   "source": [
    "## Test the Model and present Final results"
   ]
  }
 ],
 "metadata": {
  "kernelspec": {
   "display_name": "Python 3 (Spyder)",
   "language": "python3",
   "name": "python3"
  },
  "language_info": {
   "codemirror_mode": {
    "name": "ipython",
    "version": 3
   },
   "file_extension": ".py",
   "mimetype": "text/x-python",
   "name": "python",
   "nbconvert_exporter": "python",
   "pygments_lexer": "ipython3",
   "version": "3.7.0"
  }
 },
 "nbformat": 4,
 "nbformat_minor": 2
}
